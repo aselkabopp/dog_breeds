{
 "cells": [
  {
   "cell_type": "code",
   "execution_count": 1,
   "metadata": {},
   "outputs": [
    {
     "name": "stderr",
     "output_type": "stream",
     "text": [
      "[nltk_data] Downloading package punkt to\n",
      "[nltk_data]     C:\\Users\\User\\AppData\\Roaming\\nltk_data...\n",
      "[nltk_data]   Package punkt is already up-to-date!\n"
     ]
    },
    {
     "data": {
      "text/plain": [
       "True"
      ]
     },
     "execution_count": 1,
     "metadata": {},
     "output_type": "execute_result"
    }
   ],
   "source": [
    "import nltk\n",
    "import pandas as pd\n",
    "import random\n",
    "\n",
    "# Download NLTK resources\n",
    "nltk.download('punkt')"
   ]
  },
  {
   "cell_type": "code",
   "execution_count": null,
   "metadata": {},
   "outputs": [],
   "source": [
    "# Load the CSV file\n",
    "df = pd.read_csv(\"dog_breeds/dog_breeds_info.csv\")"
   ]
  },
  {
   "cell_type": "code",
   "execution_count": null,
   "metadata": {},
   "outputs": [],
   "source": [
    "# Define responses for different questions\n",
    "responses = {\n",
    "    \"behavior\": \"The behavior of a {breed} includes {traits}.\",\n",
    "    \"traits\": \"Typical traits of a {breed} are {traits}.\",\n",
    "    \"color_of_eyes\": \"The common color of eyes for a {breed} is {color}.\",\n",
    "    \"health_problems\": \"Common health problems for a {breed} include {problems}.\",\n",
    "    \"origin\": \"{breed} originated from {origin}.\",\n",
    "    \"height\": \"The height range of a {breed} is {height} inches.\",\n",
    "    \"longevity\": \"The average longevity of a {breed} is {years} years.\"\n",
    "}"
   ]
  },
  {
   "cell_type": "code",
   "execution_count": null,
   "metadata": {},
   "outputs": [],
   "source": [
    "# Function to get information about a specific breed\n",
    "def get_breed_info(breed):\n",
    "    row = df[df['Breed'] == breed]\n",
    "    if row.empty:\n",
    "        return None\n",
    "    return row.iloc[0]"
   ]
  },
  {
   "cell_type": "code",
   "execution_count": null,
   "metadata": {},
   "outputs": [],
   "source": [
    "\n",
    "# Function to generate responses based on user input\n",
    "def generate_response(question, breed):\n",
    "    info = get_breed_info(breed)\n",
    "    if info is None:\n",
    "        return \"Sorry, I don't have information about that breed.\"\n",
    "    \n",
    "    traits = info['Character Traits'].split(', ')\n",
    "    color_of_eyes = info['Color of Eyes']\n",
    "    health_problems = info['Common Health Problems']\n",
    "    origin = info['Country of Origin']\n",
    "    height = info['Height (in)']\n",
    "    longevity = info['Longevity (yrs)']\n",
    "    \n",
    "    response_template = responses.get(question)\n",
    "    if not response_template:\n",
    "        return \"I'm not sure how to answer that question.\"\n",
    "    \n",
    "    response = response_template.format(\n",
    "        breed=breed,\n",
    "        traits=', '.join(traits),\n",
    "        color=color_of_eyes,\n",
    "        problems=health_problems,\n",
    "        origin=origin,\n",
    "        height=height,\n",
    "        years=longevity\n",
    "    )\n",
    "    return response\n",
    "\n"
   ]
  },
  {
   "cell_type": "code",
   "execution_count": null,
   "metadata": {},
   "outputs": [],
   "source": [
    "# Main function to handle the conversation\n",
    "def chatbot():\n",
    "    print(\"Welcome to the Dog Breed Chatbot!\")\n",
    "    print(\"I can provide information about different dog breeds.\")\n",
    "    print(\"You can ask me about behavior, traits, color of eyes, health problems, origin, height, and longevity of a breed.\")\n",
    "    print(\"Type 'quit' to exit the chatbot.\\n\")\n",
    "    \n",
    "    while True:\n",
    "        user_input = input(\"You: \").strip().lower()\n",
    "        if user_input == 'quit':\n",
    "            print(\"Chatbot: Goodbye!\")\n",
    "            break\n",
    "        \n",
    "        # Check if the user input matches any question pattern\n",
    "        matched_question = None\n",
    "        for question in responses:\n",
    "            if question in user_input:\n",
    "                matched_question = question\n",
    "                break\n",
    "        \n",
    "        if matched_question:\n",
    "            breed = user_input.replace(matched_question, \"\").strip()\n",
    "            response = generate_response(matched_question, breed)\n",
    "            print(\"Chatbot:\", response)\n",
    "        else:\n",
    "            print(\"Chatbot: I'm sorry, I didn't understand that. Can you please rephrase your question?\")\n"
   ]
  },
  {
   "cell_type": "code",
   "execution_count": null,
   "metadata": {},
   "outputs": [],
   "source": [
    "\n",
    "# Run the chatbot\n",
    "if __name__ == \"__main__\":\n",
    "    chatbot()"
   ]
  }
 ],
 "metadata": {
  "kernelspec": {
   "display_name": "Python 3",
   "language": "python",
   "name": "python3"
  },
  "language_info": {
   "codemirror_mode": {
    "name": "ipython",
    "version": 3
   },
   "file_extension": ".py",
   "mimetype": "text/x-python",
   "name": "python",
   "nbconvert_exporter": "python",
   "pygments_lexer": "ipython3",
   "version": "3.12.1"
  }
 },
 "nbformat": 4,
 "nbformat_minor": 2
}
